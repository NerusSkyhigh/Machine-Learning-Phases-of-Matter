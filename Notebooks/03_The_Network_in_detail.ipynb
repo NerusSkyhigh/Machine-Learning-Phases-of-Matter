{
  "cells": [
    {
      "cell_type": "markdown",
      "metadata": {
        "id": "d2-QzFR3EXpX"
      },
      "source": [
        "# Machine Learning phases of matter\n",
        "\n",
        "## Abstract\n",
        "This project aims to reobtain the results presented in [Machine learning phases of matter (Juan Carrasquilla, Roger G. Melko)](https://arxiv.org/abs/1605.01735) regarding the two-dimensional square Ising model. The authors show that a standard _feed-forward neural network_ (FFNN) is a suitable tool to detect Ising's model phase transition.  \n",
        "This is done by first comparing the behavior of a _fully connected neural networr_ (FCNN) to a hand-made Toy model.  \n",
        "Then the number of parameters of the FCNN is increased and the accuracy of the model is studied as a function of the lattice size to remove boundary effects.   In the original article, the FCNN is then upgraded to a _convolutional neural network_ to test its accuracy on non-Ising Hamiltonians.  \n",
        "Finally, as an appendix, the original data is analyzed with the _t-stochastic neighbors embedding_ algorithm to separate the data into clusters.\n",
        "\n",
        "The full project can be found on GitHub: [https://github.com/NerusSkyhigh/Machine-Learning-Phases-of-Matter](https://github.com/NerusSkyhigh/Machine-Learning-Phases-of-Matter).\n",
        "\n",
        "---\n",
        "\n",
        "In this third notebook Toy model FCNN will be upgraded with an hidden layer of 100 neurons, then the training procedure will be discussed in detail. Following that, the results of [Juan Carrasquilla and Roger G. Melko](https://arxiv.org/abs/1605.01735) on non standard Ising hamiltonian will be presented."
      ]
    },
    {
      "cell_type": "code",
      "source": [
        "!rm -rf sample_data Machine-Learning-Phases-of-Matter MonteCarloSampling data.csv\n",
        "!git clone https://github.com/NerusSkyhigh/Machine-Learning-Phases-of-Matter\n",
        "\n",
        "# Compile C source codes\n",
        "!gcc -Wall Machine-Learning-Phases-of-Matter/MonteCarloSampling.c -o MonteCarloSampling.o -lm"
      ],
      "metadata": {
        "colab": {
          "base_uri": "https://localhost:8080/"
        },
        "id": "UCBCb6gf85nA",
        "outputId": "bed349b8-a4ce-4676-914e-8b781c87aeb3"
      },
      "execution_count": null,
      "outputs": [
        {
          "output_type": "stream",
          "name": "stdout",
          "text": [
            "Cloning into 'Machine-Learning-Phases-of-Matter'...\n",
            "remote: Enumerating objects: 135, done.\u001b[K\n",
            "remote: Counting objects: 100% (135/135), done.\u001b[K\n",
            "remote: Compressing objects: 100% (97/97), done.\u001b[K\n",
            "remote: Total 135 (delta 59), reused 106 (delta 33), pack-reused 0\u001b[K\n",
            "Receiving objects: 100% (135/135), 3.40 MiB | 4.97 MiB/s, done.\n",
            "Resolving deltas: 100% (59/59), done.\n"
          ]
        }
      ]
    },
    {
      "cell_type": "code",
      "execution_count": null,
      "metadata": {
        "cellView": "form",
        "colab": {
          "base_uri": "https://localhost:8080/"
        },
        "id": "wioV4G9XD9F3",
        "outputId": "b54ab1db-5a69-48d5-8862-d9a6373fee9c"
      },
      "outputs": [
        {
          "output_type": "stream",
          "name": "stdout",
          "text": [
            "\n",
            "Using cuda device\n"
          ]
        }
      ],
      "source": [
        "#@markdown Load libraries and helper functions\n",
        "import os\n",
        "import numpy as np\n",
        "import pandas as pd\n",
        "import seaborn as sns\n",
        "import matplotlib.pyplot as plt\n",
        "\n",
        "sns.set_theme(rc={'figure.figsize':(22,6)}, style='darkgrid')\n",
        "\n",
        "import torch\n",
        "device = \"cuda\" if torch.cuda.is_available() else \"cpu\"\n",
        "print(f\"\\nUsing {device} device\")\n",
        "\n",
        "# CONSTANTS\n",
        "critical_temperature = 2/( np.log( np.sqrt(2)+1) )\n",
        "\n",
        "# FUNCTIONS\n",
        "def generate_data(lowest_temperature, increment_temperature, highest_temperature,\n",
        "                  lattice_side, number_of_configurations,\n",
        "                  initial_number_of_thermalisation_steps, number_of_thermalisation_steps,\n",
        "                  filename='data.csv', clear_old_data=True, show_termalisation_info=False):\n",
        "  # ! This version supports the \"initial_number_of_thermalisation_steps\" parameter\n",
        "  debug_flag = \"\" if show_termalisation_info else \"1>/dev/null\"\n",
        "  clear_flag = f\"rm -rf {filename}\" if clear_old_data else \"\"\n",
        "\n",
        "  sh = f\"\"\"\n",
        "  set -e\n",
        "  export LC_NUMERIC=\"en_US.UTF-8\"\n",
        "\n",
        "  {clear_flag}\n",
        "\n",
        "  for T in $(seq {lowest_temperature} {increment_temperature} {highest_temperature})\n",
        "  do\n",
        "    ./MonteCarloSampling.o --lattice-side {lattice_side} \\\n",
        "                          --temperature $T \\\n",
        "                          --number-of-configurations {number_of_configurations} \\\n",
        "                          --initial_thermalisation-steps {initial_number_of_thermalisation_steps} \\\n",
        "                          --thermalisation-steps {number_of_thermalisation_steps} \\\n",
        "                          --output-file '{filename}' {debug_flag}\n",
        "  done\n",
        "  \"\"\"\n",
        "  with open('script.sh', 'w') as file:\n",
        "    file.write(sh)\n",
        "\n",
        "  !bash script.sh && rm script.sh\n",
        "\n",
        "def dataframe_from_lattice_csv(fileName, lattice_side):\n",
        "  df = pd.read_csv(fileName, names=['L', 'T', 'E']+['LP'+str(i) for i in range(lattice_side*lattice_side)] )\n",
        "\n",
        "  df['lattice'] = df[df.columns[3:]].apply( lambda x: np.array(x, dtype=np.float32), axis=1)\n",
        "  df = df.drop(columns=['L']+['LP'+str(i) for i in range(lattice_side*lattice_side)])\n",
        "  df['magnetization']  = df['lattice'].apply(lambda x: x.sum()/x.shape[0])\n",
        "\n",
        "  return df\n"
      ]
    },
    {
      "cell_type": "markdown",
      "metadata": {
        "id": "nZKC2D6RyHOU"
      },
      "source": [
        "## 03 - The Network in detail\n",
        "\n",
        "### The improved FCNN\n",
        "The Toy Model shows unstable training mainly due to the small number of neurons in the hidden layer. As suggested by the authors the network will be improved by increasing the number of neurons in the hidden layer to $100$. This results in both a _faster_ and _more stable_ training."
      ]
    },
    {
      "cell_type": "code",
      "execution_count": null,
      "metadata": {
        "colab": {
          "base_uri": "https://localhost:8080/"
        },
        "id": "Coe1DWWPIEIH",
        "outputId": "8b45ebc8-4f98-428a-cad9-2a51cd14ee7e",
        "cellView": "form"
      },
      "outputs": [
        {
          "output_type": "stream",
          "name": "stdout",
          "text": [
            "Data Generation completed. The files are available in FCNN_data.csv.\n"
          ]
        }
      ],
      "source": [
        "#@markdown Data Generation\n",
        "lowest_temperature = 1 #@param {type:\"number\"}\n",
        "highest_temperature = 3.51 #@param {type:\"number\"}\n",
        "increment_temperature = 0.05 #@param {type:\"number\"}\n",
        "lattice_side = 30 #@param {type:\"integer\"}\n",
        "number_of_configurations = 1000 #@param {type:\"integer\"}\n",
        "initial_number_of_thermalisation_steps = 2000 #@param {type:\"integer\"}\n",
        "number_of_thermalisation_steps = 500 #@param {type:\"integer\"}\n",
        "# number_of_thermalisation_steps = 4000\n",
        "\n",
        "filename = \"FCNN_data.csv\"\n",
        "generate_data(lowest_temperature, increment_temperature, highest_temperature,\n",
        "              lattice_side, number_of_configurations,\n",
        "              initial_number_of_thermalisation_steps, number_of_thermalisation_steps,\n",
        "              filename, clear_old_data=True, show_termalisation_info=False)\n",
        "\n",
        "print(f\"Data Generation completed. The files are available in {filename}.\")"
      ]
    },
    {
      "cell_type": "code",
      "execution_count": null,
      "metadata": {
        "id": "5BvioaYUqvta"
      },
      "outputs": [],
      "source": [
        "from sklearn.model_selection import train_test_split\n",
        "\n",
        "df = dataframe_from_lattice_csv(filename, lattice_side)\n",
        "\n",
        "# Input data are just the lattice sites\n",
        "X = np.empty( (df['lattice'].shape[0], lattice_side*lattice_side), dtype=np.float32 )\n",
        "for idx, lattice in enumerate(df['lattice']):\n",
        "  X[idx] = lattice\n",
        "\n",
        "# Y should be [0., 1.] if T>Tc or [1., 0] otherwise.\n",
        "Y = np.empty( (df.shape[0], 2), dtype=np.float32)\n",
        "for idx, T in enumerate(df['T']):\n",
        "  Y[idx] = [0., 1.] if T>critical_temperature else [1., 0]\n",
        "\n",
        "X_train, X_test, Y_train, Y_test = train_test_split(X, Y, test_size=0.33, shuffle=True)"
      ]
    },
    {
      "cell_type": "code",
      "execution_count": null,
      "metadata": {
        "cellView": "form",
        "colab": {
          "base_uri": "https://localhost:8080/",
          "height": 98
        },
        "id": "cQUmglFG3MpV",
        "outputId": "28caaf35-3670-4803-dbd2-ab9e37d524a8"
      },
      "outputs": [
        {
          "output_type": "display_data",
          "data": {
            "text/plain": [
              "<Figure size 1296x576 with 9 Axes>"
            ],
            "image/png": "[encoded data removed]"
          },
          "metadata": {}
        }
      ],
      "source": [
        "#@markdown Nine configurations with their label picked at random.\n",
        "fig, axs = plt.subplots(nrows=1, ncols=9, figsize=(18, 8))\n",
        "fig.patch.set_facecolor('xkcd:robin\\'s egg')\n",
        "\n",
        "for ax in axs:\n",
        "  sample_idx = int(np.random.rand()*len(X_train))\n",
        "  img, label = X_train[sample_idx], Y_train[sample_idx, :]\n",
        "  ax.set_title(r\"T{}$T_c$ [{}, {}]\".format('>' if label[1] else '<',\n",
        "                                          int(label[0]),\n",
        "                                          int(label[1]) ))\n",
        "  ax.axis(\"off\")\n",
        "  ax.imshow(img.reshape( (lattice_side, lattice_side) ), interpolation='none',\n",
        "            cmap=\"gray\")\n",
        "\n",
        "plt.tight_layout()\n",
        "plt.show();"
      ]
    },
    {
      "cell_type": "code",
      "execution_count": null,
      "metadata": {
        "id": "hIqw-eh5BUr9"
      },
      "outputs": [],
      "source": [
        "from torch import nn\n",
        "\n",
        "class NeuralNetwork(nn.Module):  \n",
        "  def __init__(self):\n",
        "    super(NeuralNetwork, self).__init__()\n",
        "\n",
        "    self.layers = nn.Sequential(\n",
        "      nn.Linear(lattice_side*lattice_side, 100, bias=True),\n",
        "      nn.Sigmoid(),\n",
        "      nn.Linear(100, 2, bias=False),\n",
        "      nn.Sigmoid()\n",
        "    )\n",
        "\n",
        "  def forward(self, x):\n",
        "    return self.layers(x)\n",
        "\n",
        "  \n",
        "  def predict(self, x):\n",
        "    output = self.forward(x)\n",
        "    return torch.argmax(output, 1)\n",
        "\n",
        "#####################################\n",
        "\n",
        "\n",
        "def train(model, X, y, epochs):\n",
        "  # The Cross Entropy Loss is suitable for classification problems\n",
        "  loss_function = nn.BCELoss()\n",
        "\n",
        "  # Create an optimizer that will be used to train the network.\n",
        "  # Weight decay handles the L2 regularizator\n",
        "  learning_rate = 1e-2\n",
        "  optimizer = torch.optim.Adam(model.parameters(), lr=learning_rate, weight_decay=2e-05)\n",
        "  \n",
        "  # List of losses for visualization\n",
        "  losses = []\n",
        "\n",
        "  for i in range(epochs):\n",
        "    y_pred = model.forward(X)\n",
        "    loss = loss_function(y_pred, y)\n",
        "\n",
        "    # Clear the previous gradients and compute the new ones\n",
        "    optimizer.zero_grad()\n",
        "    loss.backward()\n",
        "\n",
        "    # Adapt the weights of the network\n",
        "    optimizer.step()\n",
        "\n",
        "    # Store the loss\n",
        "    losses.append(loss.item())\n",
        "\n",
        "  return losses"
      ]
    },
    {
      "cell_type": "code",
      "source": [
        "#@markdown Results of the upgraded network\n",
        "\n",
        "# Convert the 2D points to a float32 tensor\n",
        "X_train_torch = torch.tensor(X_train, dtype=torch.float32).to(device)\n",
        "Y_train_torch = torch.from_numpy(Y_train).to(device)\n",
        "X_test_torch = torch.tensor(X_test, dtype=torch.float32).to(device)\n",
        "Y_test_torch = torch.from_numpy(Y_test).to(device)\n",
        "\n",
        "# Generate and train the model\n",
        "model = NeuralNetwork().to(device)\n",
        "losses = train(model, X_train_torch, Y_train_torch, epochs=300)\n",
        "\n",
        "# Test the model\n",
        "Y_pred = model.forward(X_test_torch)\n",
        "loss = nn.BCELoss()(Y_pred, Y_test_torch)\n",
        "print(\"Test loss:\", loss.item(), \"\\n\")\n",
        "\n",
        "\n",
        "# Plots\n",
        "fig, axs = plt.subplots(nrows=2, ncols=1, figsize=(15, 10))\n",
        "axs[0].plot(np.arange( len(losses) ), losses);\n",
        "axs[0].axhline(y=loss.item(), color='r', linestyle='--', alpha=0.3, label=\"Validation loss\")\n",
        "axs[0].legend()\n",
        "axs[0].set_ylim([0, 1])\n",
        "axs[0].set_ylabel(\"Loss\")\n",
        "axs[0].set_xlabel(\"Numer of epochs\");\n",
        "\n",
        "\n",
        "X_torch = torch.tensor(X, dtype=torch.float32).to(device)\n",
        "Y_pred = model.forward(X_torch)\n",
        "Y_detached = Y_pred.cpu().detach().numpy()\n",
        "\n",
        "sns.lineplot(x=df['T'], y=Y_detached[:, 0], ax=axs[1], label=r\"output[0]\", marker=\"o\", ci=None)\n",
        "sns.lineplot(x=df['T'], y=Y_detached[:, 1], ax=axs[1], label=r\"output[1]\", marker=\"o\", ci=None, alpha=0.7, linestyle='--')\n",
        "axs[1].axvline(critical_temperature, 0, 1, label=r\"$T_c$\", linestyle=\"--\")\n",
        "\n",
        "xticks = np.arange(lowest_temperature, highest_temperature, 2*increment_temperature)\n",
        "axs[1].set_xticks(xticks)\n",
        "axs[1].set_xticklabels(['{:.2f}'.format(T) for T in xticks])\n",
        "axs[1].legend()\n",
        "axs[1].set_xlim([1, 3.5])\n",
        "axs[1].set_ylabel(\"output\");"
      ],
      "metadata": {
        "colab": {
          "base_uri": "https://localhost:8080/",
          "height": 477
        },
        "id": "F88Oc0Ah9i_Y",
        "outputId": "c8b8b3f3-0d99-450b-f084-00e563ffad7d",
        "cellView": "form"
      },
      "execution_count": null,
      "outputs": [
        {
          "output_type": "stream",
          "name": "stdout",
          "text": [
            "Test loss: 0.025237474590539932 \n",
            "\n"
          ]
        },
        {
          "output_type": "display_data",
          "data": {
            "text/plain": [
              "<Figure size 1080x720 with 2 Axes>"
            ],
            "image/png": "[encoded data removed]"
          },
          "metadata": {}
        }
      ]
    },
    {
      "cell_type": "markdown",
      "source": [
        "It is possible to see similar results with more consistent training. The only downside is that it is difficult to keep track of all the $100$ hidden neurons and the actual inner working of the network is unknown."
      ],
      "metadata": {
        "id": "6ng4DHgZj3D8"
      }
    },
    {
      "cell_type": "markdown",
      "source": [
        "### Discussion\n",
        "\n",
        "#### The network\n",
        "```python\n",
        "class NeuralNetwork(nn.Module):  \n",
        "  def __init__(self):\n",
        "    super(NeuralNetwork, self).__init__()\n",
        "\n",
        "    self.layers = nn.Sequential(\n",
        "      nn.Linear(lattice_side*lattice_side, 100, bias=True),\n",
        "      nn.Sigmoid(),\n",
        "      nn.Linear(100, 2, bias=False),\n",
        "      nn.Sigmoid()\n",
        "    )\n",
        "\n",
        "  def forward(self, x):\n",
        "    return self.layers(x)\n",
        "```\n",
        "As already stated multiple times, the network consists of $L^2$ input neurons, $100$ hidden neurons, and two sigmoid activation functions. The first layer is biased, while the second is not. No significant difference was found in biasing the second layer. For consistency with the Toy Model, the second layer was kept unbiased.\n",
        "\n",
        "</br> \n",
        "\n",
        "\n",
        "#### The training phase\n",
        "The training phase is the core of each machine learning application and a lot of care is required. Each part of the training phase will be discussed.\n",
        "\n",
        "```python\n",
        "def train(model, X, y, epochs):\n",
        "  # The Cross Entropy Loss is suitable for classification problems\n",
        "  loss_function = nn.BCELoss() # nn.CrossEntropyLoss()\n",
        "```\n",
        "The **loss function** is the machine learning equivalent of the error, to the point where regression problems use the mean square error $MSE=\\frac{1}{N}\\sum_{i}(y^{predicted}_{i}-y^{expected}_{i})$ as loss function.  \n",
        "The authors of the article claim to have used a _\"cross-entropy cost function\"_ but little to no result was obtained by using it. What is most likely to have happened is that the authors used a _**Binary** Cross Entropy cost function_, a version of the cross entropy suitable for binary classification problems. Given $N$ datapoints subdivided into two classes $y = \\{ 0, 1\\}$ it is possible to compute the binary cross entropy of the probability $p(y_i)$ that the point $i$ belongs to the class $y = 1$ as:\n",
        "\n",
        "$$H_p(q) = - \\frac{1}{N} \\sum_{i=1}^{N} y_i \\log\\left(p(y_i)\\right) + (1-y_i) \\log\\left(1-p(y_i)\\right)$$\n",
        "\n",
        "Notice that the requirement $y = \\{ 0, 1\\}$ implies that the two terms in the sum are mutually exclusive and the binary cross entropy could be rewritten as:\n",
        "$$H_p(q) = - \\frac{1}{N} \\sum_{y\\in\\{0, 1\\}}\\sum_{i=1}^{N_{y}} \\log\\left(p(y_i)\\right)$$\n",
        "That is the sum of the logarithmic probability that each point belongs to the correct class.\n",
        "\n",
        "</br> \n",
        "\n",
        "```python\n",
        "  # Create an optimizer that will be used to train the network.\n",
        "  # Weight decay handles the L2 regularizator\n",
        "  learning_rate = 1e-2\n",
        "  optimizer = torch.optim.Adam(model.parameters(), lr=learning_rate, weight_decay=2e-05)\n",
        "```\n",
        "The optimizer chosen by the authors is the Adam optimizer whose algorithm is shown in the following image taken from the [original article](https://arxiv.org/abs/1412.6980).\n",
        "\n",
        "![](https://i.ibb.co/bXHV3fF/03-adam-optimizer.png)\n",
        "\n",
        "The algorithm is a \"first-order gradient-based optimization\" with moments. An in-depth discussion of momentum is out of scope, but the gist is that the step size depends on the value of the gradient so that the optimizer can easily leave local minima.  \n",
        "The learning rate is a multiplicative constant that further reduces the step size to avoid overshooting the true minimum. When the matrix involved is _not_ sparse it works as a cap to the maximum step size.  \n",
        "The weight decay takes the place of the $L^2$ regularizator suggested in the article. Instead of adding a penalization term $\\lambda \\sum_{i} w_i^2$ to the cost function, the weights decay with a characteristic constant, effectively discouraging large weight magnitudes.\n",
        "\n",
        "</br> \n",
        "\n",
        "```python \n",
        "  # List of losses for visualization\n",
        "  losses = []\n",
        "\n",
        "  for i in range(epochs):\n",
        "    y_pred = model.forward(X)\n",
        "    loss = loss_function(y_pred, y)\n",
        "\n",
        "    # Clear the previous gradients and compute the new ones\n",
        "    optimizer.zero_grad()\n",
        "    loss.backward()\n",
        "\n",
        "    # Adapt the weights of the network\n",
        "    optimizer.step()\n",
        "\n",
        "    # Store the loss\n",
        "    losses.append(loss.item())\n",
        "\n",
        "  return losses\n",
        "```\n",
        "The training loop works in a straightforward way:  \n",
        "  1. Predictions for the input data are computed using the current state of the model\n",
        "  2. The loss is computed by taking the binary cross entropy of the data\n",
        "  3. The gradient is set to zero and the new gradient is computed. This behavior is due to Pytorch's internal implementation of the Autograd algorithm.\n",
        "  4. A step of the optimizer is performed using the new gradient\n",
        "\n",
        "The number of epochs is not known a priori, the correct value is usually discovered by trial and error by analyzing the performances of the network."
      ],
      "metadata": {
        "id": "M0G6fYo1d4yL"
      }
    },
    {
      "cell_type": "markdown",
      "source": [
        "### Applications to non-standard Ising Hamiltonian\n",
        "The authors then proceed in testing the network on non-ferromagnetic square lattice Ising hamiltonian:\n",
        "\n",
        "</br>\n",
        "\n",
        "#### Anti-ferromagnetic coupling\n",
        "$$ H = J \\sum_{<ij>}\\sigma_{i}^z\\sigma_{j}^z$$\n",
        "The network performs optimally and is able to perform similarly to the ferromagnetic case even though providing less theoretical understanding.\n",
        "\n",
        "</br>\n",
        "\n",
        "#### Triangular Lattice Ferrogmagnetic Ising Model\n",
        "The network trained on the **square** lattice Ising model is tested against configurations sampled from a **triangular** lattice ferromagnetic Ising Hamiltonian.\n",
        "The authors don't say anything about data preprocessing to make a triangular configuration compatible with square configurations, but I think some kind of transformation was required. The performances of the network are reported in the following image taken from the article:  \n",
        "\n",
        "![](https://i.ibb.co/QbDc5qx/02-triangular-ising.png)\n",
        "\n",
        "The network is capable of correctly identifying the critical temperature for a lattice of size $L=30$ within a $0.14\\%$ error. The esteem of the model is $\\frac{T_c}{J}=3.63581$ while the theoretical value is $\\frac{T_c^{teo}}{J} = \\frac{4}{\\ln(3)} = 3.64096$. The authors attribute the discrepancy to finite size effects implying that, in optimal conditions, the model is capable of perfectly finding the critical temperature.\n",
        "\n",
        "</br>\n",
        "\n",
        "#### Two-dimensional square ice hamiltonian\n",
        "$$H=J\\sum_{v}Q_v^2 \\qquad \\text{with}\\quad Q_{v}=\\sum_{i\\in v}\\sigma_i^z$$\n",
        "\n",
        "Even if no order parameter exists for this model, the network is able to distinguish states with 99% accuracy. This suggests that the network can detect even higher-order correlations.\n",
        "\n",
        "</br>\n",
        "\n",
        "#### Ising Lattice gauge theory\n",
        "\n",
        "$$H=-J \\sum_p \\prod_{i\\in p}\\sigma_i^z$$\n",
        "\n",
        "where $p$ are the plaquettes.  \n",
        "In this case, the FCNN proved itself unreliable with an accuracy of 50% (guessing). This is probably due to the $\\Pi$ product in the hamiltonian. To solve this problem the authors upgraded the FCNN once more to a convolutional neural network (CNN). By training the CNN with states at $T=0$ and $T=\\infty$ the network can discriminate the ground state from an excited state with almost $100\\%$ accuracy."
      ],
      "metadata": {
        "id": "vV7D3mSI2aOc"
      }
    }
  ],
  "metadata": {
    "accelerator": "GPU",
    "colab": {
      "provenance": []
    },
    "gpuClass": "standard",
    "kernelspec": {
      "display_name": "Python 3",
      "name": "python3"
    },
    "language_info": {
      "name": "python"
    }
  },
  "nbformat": 4,
  "nbformat_minor": 0
}