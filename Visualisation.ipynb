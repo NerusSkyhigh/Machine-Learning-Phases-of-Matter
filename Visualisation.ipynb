{
 "cells": [
  {
   "cell_type": "code",
   "execution_count": 109,
   "id": "54e4383a",
   "metadata": {
    "ExecuteTime": {
     "end_time": "2022-05-19T22:23:04.420181Z",
     "start_time": "2022-05-19T22:23:04.414181Z"
    }
   },
   "outputs": [],
   "source": [
    "import pandas as pd\n",
    "import seaborn as sns\n",
    "import numpy as np\n",
    "\n",
    "sns.set(rc={'figure.figsize':(5,5)})"
   ]
  },
  {
   "cell_type": "code",
   "execution_count": 101,
   "id": "2eae8cf1",
   "metadata": {
    "ExecuteTime": {
     "end_time": "2022-05-19T22:21:05.583750Z",
     "start_time": "2022-05-19T22:21:05.025662Z"
    }
   },
   "outputs": [
    {
     "data": {
      "text/plain": [
       "array([[  16.,    1., -512., ...,   -1.,   -1.,   -1.],\n",
       "       [  16.,    1., -512., ...,   -1.,   -1.,   -1.],\n",
       "       [  16.,    1., -512., ...,   -1.,   -1.,   -1.],\n",
       "       [  16.,    1., -512., ...,   -1.,   -1.,   -1.],\n",
       "       [  16.,    1., -512., ...,   -1.,   -1.,   -1.]])"
      ]
     },
     "execution_count": 101,
     "metadata": {},
     "output_type": "execute_result"
    }
   ],
   "source": [
    "raw_data = np.genfromtxt('22-05-19.csv', delimiter=',')\n",
    "raw_data[:10][:5]"
   ]
  },
  {
   "cell_type": "code",
   "execution_count": 102,
   "id": "6fde44cd",
   "metadata": {
    "ExecuteTime": {
     "end_time": "2022-05-19T22:21:05.599331Z",
     "start_time": "2022-05-19T22:21:05.585715Z"
    }
   },
   "outputs": [
    {
     "data": {
      "text/plain": [
       "(3500, 259)"
      ]
     },
     "execution_count": 102,
     "metadata": {},
     "output_type": "execute_result"
    }
   ],
   "source": [
    "raw_data.shape"
   ]
  },
  {
   "cell_type": "code",
   "execution_count": 113,
   "id": "96c69a66",
   "metadata": {
    "ExecuteTime": {
     "end_time": "2022-05-19T22:25:19.099903Z",
     "start_time": "2022-05-19T22:24:42.914834Z"
    }
   },
   "outputs": [
    {
     "data": {
      "image/png": "[encoded data removed]",
      "text/plain": [
       "<Figure size 360x360 with 1 Axes>"
      ]
     },
     "metadata": {},
     "output_type": "display_data"
    }
   ],
   "source": [
    "for idx in range(raw_data.shape[0]):\n",
    "    if(idx % 25 != 0):\n",
    "        continue\n",
    "    L = int(raw_data[idx][0])\n",
    "    T = raw_data[idx][1]\n",
    "    E = raw_data[idx][2]\n",
    "\n",
    "    ax = sns.heatmap(raw_data[idx, 3:].reshape((L,L)), cbar=False, vmin=-1, vmax=1, linewidths=1);\n",
    "    ax.set_title(\"L={:d}  T={:f}  E={:f}\".format(L, T, E));\n",
    "    \n",
    "    fig = ax.get_figure()\n",
    "    fileName = \"img/{:04d} L={:d}  T={:f}  E={:f}.jpg\".format(idx, L, T, E)\n",
    "    #print(fileName)\n",
    "    fig.savefig(fileName)\n",
    "\n"
   ]
  }
 ],
 "metadata": {
  "kernelspec": {
   "display_name": "Python 3 (ipykernel)",
   "language": "python",
   "name": "python3"
  },
  "language_info": {
   "codemirror_mode": {
    "name": "ipython",
    "version": 3
   },
   "file_extension": ".py",
   "mimetype": "text/x-python",
   "name": "python",
   "nbconvert_exporter": "python",
   "pygments_lexer": "ipython3",
   "version": "3.8.13"
  },
  "latex_envs": {
   "LaTeX_envs_menu_present": true,
   "autoclose": false,
   "autocomplete": true,
   "bibliofile": "biblio.bib",
   "cite_by": "apalike",
   "current_citInitial": 1,
   "eqLabelWithNumbers": true,
   "eqNumInitial": 1,
   "hotkeys": {
    "equation": "Ctrl-E",
    "itemize": "Ctrl-I"
   },
   "labels_anchors": false,
   "latex_user_defs": false,
   "report_style_numbering": false,
   "user_envs_cfg": false
  },
  "varInspector": {
   "cols": {
    "lenName": 16,
    "lenType": 16,
    "lenVar": 40
   },
   "kernels_config": {
    "python": {
     "delete_cmd_postfix": "",
     "delete_cmd_prefix": "del ",
     "library": "var_list.py",
     "varRefreshCmd": "print(var_dic_list())"
    },
    "r": {
     "delete_cmd_postfix": ") ",
     "delete_cmd_prefix": "rm(",
     "library": "var_list.r",
     "varRefreshCmd": "cat(var_dic_list()) "
    }
   },
   "types_to_exclude": [
    "module",
    "function",
    "builtin_function_or_method",
    "instance",
    "_Feature"
   ],
   "window_display": false
  }
 },
 "nbformat": 4,
 "nbformat_minor": 5
}
