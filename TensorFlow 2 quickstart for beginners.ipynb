{
 "cells": [
  {
   "cell_type": "markdown",
   "id": "89f1516a",
   "metadata": {},
   "source": [
    "source: https://www.tensorflow.org/tutorials/quickstart/beginner?hl=en"
   ]
  },
  {
   "cell_type": "code",
   "execution_count": 27,
   "id": "b8df216b",
   "metadata": {
    "ExecuteTime": {
     "end_time": "2022-05-15T15:23:57.463774Z",
     "start_time": "2022-05-15T15:23:57.444756Z"
    }
   },
   "outputs": [
    {
     "name": "stdout",
     "output_type": "stream",
     "text": [
      "TensorFlow version: 2.8.0\n"
     ]
    }
   ],
   "source": [
    "import tensorflow as tf\n",
    "print(\"TensorFlow version:\", tf.__version__)"
   ]
  },
  {
   "cell_type": "code",
   "execution_count": 28,
   "id": "e072ccb3",
   "metadata": {
    "ExecuteTime": {
     "end_time": "2022-05-15T15:23:57.807844Z",
     "start_time": "2022-05-15T15:23:57.465766Z"
    }
   },
   "outputs": [],
   "source": [
    "mnist = tf.keras.datasets.mnist\n",
    "\n",
    "(x_train, y_train), (x_test, y_test) = mnist.load_data()\n",
    "x_train, x_test = x_train / 255.0, x_test / 255.0"
   ]
  },
  {
   "cell_type": "code",
   "execution_count": 29,
   "id": "93140d69",
   "metadata": {
    "ExecuteTime": {
     "end_time": "2022-05-15T15:23:58.015845Z",
     "start_time": "2022-05-15T15:23:57.808828Z"
    }
   },
   "outputs": [
    {
     "name": "stdout",
     "output_type": "stream",
     "text": [
      "Expected:  5\n"
     ]
    },
    {
     "data": {
      "image/png": "[encoded data removed]",
      "text/plain": [
       "<Figure size 432x288 with 2 Axes>"
      ]
     },
     "metadata": {},
     "output_type": "display_data"
    }
   ],
   "source": [
    "import seaborn as sns;\n",
    "sns.set_theme();\n",
    "\n",
    "ax = sns.heatmap(x_train[0]);\n",
    "print(\"Expected: \", y_train[0])"
   ]
  },
  {
   "cell_type": "code",
   "execution_count": 30,
   "id": "6cdb076d",
   "metadata": {
    "ExecuteTime": {
     "end_time": "2022-05-15T15:23:58.054064Z",
     "start_time": "2022-05-15T15:23:58.017782Z"
    }
   },
   "outputs": [],
   "source": [
    "model = tf.keras.models.Sequential([\n",
    "  tf.keras.layers.Flatten(input_shape=(28, 28)), # Flatterns input\n",
    "  tf.keras.layers.Dense(128, activation='relu'), # Fully connected layer\n",
    "  tf.keras.layers.Dropout(0.2), # P=0.2 of ignoring a neuron during training\n",
    "  tf.keras.layers.Dense(10)\n",
    "])"
   ]
  },
  {
   "cell_type": "markdown",
   "id": "7c9dde61",
   "metadata": {},
   "source": [
    "Note: It is possible to bake the tf.nn.softmax function into the activation function for the last layer of the network. While this can make the model output more directly interpretable, this approach is discouraged as it's impossible to provide an exact and numerically stable loss calculation for all models when using a softmax output."
   ]
  },
  {
   "cell_type": "code",
   "execution_count": 31,
   "id": "0a25d733",
   "metadata": {
    "ExecuteTime": {
     "end_time": "2022-05-15T15:23:58.069624Z",
     "start_time": "2022-05-15T15:23:58.055062Z"
    }
   },
   "outputs": [
    {
     "data": {
      "text/plain": [
       "array([[0.11975615, 0.12686665, 0.11856159, 0.05804828, 0.07647942,\n",
       "        0.06190214, 0.19344102, 0.12238002, 0.07500967, 0.04755506]],\n",
       "      dtype=float32)"
      ]
     },
     "execution_count": 31,
     "metadata": {},
     "output_type": "execute_result"
    }
   ],
   "source": [
    "predictions = model(x_train[:1]).numpy() # logit output\n",
    "tf.nn.softmax(predictions).numpy() # exp(predictions)/sum(exp(predictions))"
   ]
  },
  {
   "cell_type": "code",
   "execution_count": 32,
   "id": "bb74e247",
   "metadata": {
    "ExecuteTime": {
     "end_time": "2022-05-15T15:23:58.086346Z",
     "start_time": "2022-05-15T15:23:58.071609Z"
    }
   },
   "outputs": [
    {
     "data": {
      "text/plain": [
       "2.7822006"
      ]
     },
     "execution_count": 32,
     "metadata": {},
     "output_type": "execute_result"
    }
   ],
   "source": [
    "loss_fn = tf.keras.losses.SparseCategoricalCrossentropy(from_logits=True)\n",
    "loss_fn(y_train[:1], predictions).numpy()"
   ]
  },
  {
   "cell_type": "code",
   "execution_count": 33,
   "id": "edf24f55",
   "metadata": {
    "ExecuteTime": {
     "end_time": "2022-05-15T15:23:58.106070Z",
     "start_time": "2022-05-15T15:23:58.087346Z"
    }
   },
   "outputs": [],
   "source": [
    "model.compile(optimizer='adam',\n",
    "              loss=loss_fn,\n",
    "              metrics=['accuracy'])"
   ]
  },
  {
   "cell_type": "code",
   "execution_count": 34,
   "id": "02ac83f2",
   "metadata": {
    "ExecuteTime": {
     "end_time": "2022-05-15T15:24:16.986700Z",
     "start_time": "2022-05-15T15:23:58.106070Z"
    }
   },
   "outputs": [
    {
     "name": "stdout",
     "output_type": "stream",
     "text": [
      "Epoch 1/5\n",
      "1875/1875 [==============================] - 4s 2ms/step - loss: 0.2924 - accuracy: 0.9128\n",
      "Epoch 2/5\n",
      "1875/1875 [==============================] - 3s 2ms/step - loss: 0.1385 - accuracy: 0.9588\n",
      "Epoch 3/5\n",
      "1875/1875 [==============================] - 4s 2ms/step - loss: 0.1055 - accuracy: 0.9679\n",
      "Epoch 4/5\n",
      "1875/1875 [==============================] - 4s 2ms/step - loss: 0.0857 - accuracy: 0.9737\n",
      "Epoch 5/5\n",
      "1875/1875 [==============================] - 4s 2ms/step - loss: 0.0741 - accuracy: 0.9769\n"
     ]
    },
    {
     "data": {
      "text/plain": [
       "<keras.callbacks.History at 0x254c790ec40>"
      ]
     },
     "execution_count": 34,
     "metadata": {},
     "output_type": "execute_result"
    }
   ],
   "source": [
    "model.fit(x_train, y_train, epochs=5)"
   ]
  },
  {
   "cell_type": "code",
   "execution_count": 35,
   "id": "36a54c62",
   "metadata": {
    "ExecuteTime": {
     "end_time": "2022-05-15T15:24:17.654242Z",
     "start_time": "2022-05-15T15:24:16.988528Z"
    }
   },
   "outputs": [
    {
     "name": "stdout",
     "output_type": "stream",
     "text": [
      "313/313 - 1s - loss: 0.0774 - accuracy: 0.9753 - 603ms/epoch - 2ms/step\n"
     ]
    },
    {
     "data": {
      "text/plain": [
       "[0.07736649364233017, 0.9753000140190125]"
      ]
     },
     "execution_count": 35,
     "metadata": {},
     "output_type": "execute_result"
    }
   ],
   "source": [
    "model.evaluate(x_test,  y_test, verbose=2)"
   ]
  },
  {
   "cell_type": "code",
   "execution_count": 36,
   "id": "c2dae9dd",
   "metadata": {
    "ExecuteTime": {
     "end_time": "2022-05-15T15:24:17.686226Z",
     "start_time": "2022-05-15T15:24:17.654242Z"
    }
   },
   "outputs": [],
   "source": [
    "probability_model = tf.keras.Sequential([\n",
    "  model,\n",
    "  tf.keras.layers.Softmax()\n",
    "])"
   ]
  },
  {
   "cell_type": "code",
   "execution_count": 37,
   "id": "97a46a74",
   "metadata": {
    "ExecuteTime": {
     "end_time": "2022-05-15T15:24:17.699184Z",
     "start_time": "2022-05-15T15:24:17.687073Z"
    }
   },
   "outputs": [
    {
     "data": {
      "text/plain": [
       "<tf.Tensor: shape=(5, 10), dtype=float32, numpy=\n",
       "array([[5.9490464e-08, 4.8044133e-09, 1.1503145e-05, 6.6876854e-04,\n",
       "        1.0395862e-09, 3.2674322e-07, 1.4400590e-12, 9.9925393e-01,\n",
       "        5.6124332e-08, 6.5307693e-05],\n",
       "       [5.1050977e-09, 8.1386877e-04, 9.9918300e-01, 2.3928757e-07,\n",
       "        1.4138551e-15, 2.4306173e-06, 1.5241581e-09, 9.3781045e-11,\n",
       "        4.2516893e-07, 1.8681693e-11],\n",
       "       [4.1100904e-07, 9.9912328e-01, 1.4588214e-05, 1.6314936e-05,\n",
       "        6.1515930e-05, 5.3486883e-06, 3.0844380e-06, 6.8975764e-04,\n",
       "        7.7063982e-05, 8.8479037e-06],\n",
       "       [9.9865997e-01, 3.3545342e-09, 1.7187090e-04, 1.5479751e-06,\n",
       "        5.0329563e-06, 1.0823568e-05, 8.8384183e-04, 3.4227236e-05,\n",
       "        4.5755914e-07, 2.3211987e-04],\n",
       "       [8.5072215e-06, 3.4880884e-08, 2.4457226e-05, 7.3975519e-07,\n",
       "        9.8894811e-01, 1.1674945e-08, 7.3253830e-07, 1.5471305e-04,\n",
       "        6.2754077e-07, 1.0862008e-02]], dtype=float32)>"
      ]
     },
     "execution_count": 37,
     "metadata": {},
     "output_type": "execute_result"
    }
   ],
   "source": [
    "probability_model(x_test[:5])"
   ]
  }
 ],
 "metadata": {
  "kernelspec": {
   "display_name": "Python 3 (ipykernel)",
   "language": "python",
   "name": "python3"
  },
  "language_info": {
   "codemirror_mode": {
    "name": "ipython",
    "version": 3
   },
   "file_extension": ".py",
   "mimetype": "text/x-python",
   "name": "python",
   "nbconvert_exporter": "python",
   "pygments_lexer": "ipython3",
   "version": "3.8.13"
  },
  "latex_envs": {
   "LaTeX_envs_menu_present": true,
   "autoclose": false,
   "autocomplete": true,
   "bibliofile": "biblio.bib",
   "cite_by": "apalike",
   "current_citInitial": 1,
   "eqLabelWithNumbers": true,
   "eqNumInitial": 1,
   "hotkeys": {
    "equation": "Ctrl-E",
    "itemize": "Ctrl-I"
   },
   "labels_anchors": false,
   "latex_user_defs": false,
   "report_style_numbering": false,
   "user_envs_cfg": false
  },
  "varInspector": {
   "cols": {
    "lenName": 16,
    "lenType": 16,
    "lenVar": 40
   },
   "kernels_config": {
    "python": {
     "delete_cmd_postfix": "",
     "delete_cmd_prefix": "del ",
     "library": "var_list.py",
     "varRefreshCmd": "print(var_dic_list())"
    },
    "r": {
     "delete_cmd_postfix": ") ",
     "delete_cmd_prefix": "rm(",
     "library": "var_list.r",
     "varRefreshCmd": "cat(var_dic_list()) "
    }
   },
   "types_to_exclude": [
    "module",
    "function",
    "builtin_function_or_method",
    "instance",
    "_Feature"
   ],
   "window_display": false
  }
 },
 "nbformat": 4,
 "nbformat_minor": 5
}
